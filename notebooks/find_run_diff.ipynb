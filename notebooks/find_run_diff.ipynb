{
 "cells": [
  {
   "cell_type": "markdown",
   "metadata": {},
   "source": [
    "# Find Run Diff\n",
    "\n",
    "This assumes you have two folders you want to check for runs (subfolders), the name of the folders are not identical and one of the folders may have a run not found on the other folder. The script will take the two folders, regex's to make them comparable (by using the capture groups to make a shared key). It will then create an output file of set name with a list of `key\\tfolder` pairs for runs that exist in the first but not the second. Comments for these files will be added with a `#` for parsing purposes.\n",
    "\n",
    "This program is intended to be used for scanning runs that need to be demultiplexed (eg raw NextSeq to demux folder), and for finding runs that have been demux'd and need to be processed (eg demux to QC pipeline)."
   ]
  },
  {
   "cell_type": "markdown",
   "metadata": {},
   "source": [
    "## Installation/Setup\n",
    "Please ensure you've followed instructions in `./README.md` to install the conda environment which this is based on. It contains the required libraries for also running this jupyter notebook. If you follow the default set up then ensure your Jupyter server is pointing to `./venv/bin/python`."
   ]
  },
  {
   "cell_type": "markdown",
   "metadata": {},
   "source": [
    "## Libraries"
   ]
  },
  {
   "cell_type": "code",
   "execution_count": 69,
   "metadata": {},
   "outputs": [],
   "source": [
    "from dotenv import dotenv_values                                   # Used for loading configs\n",
    "import os\n",
    "import re                                                          # Used to get run keys"
   ]
  },
  {
   "cell_type": "markdown",
   "metadata": {},
   "source": [
    "## Config variables\n",
    "Variables for running the process. It first checks the defaults which are all relative to the project location. Specific settings can be set with another file which will overwrite values in the default but must be passed as an environmental variable `CONFIG_PATH`. Afterwards you can overwrite individual settings with environmental variables."
   ]
  },
  {
   "cell_type": "code",
   "execution_count": 70,
   "metadata": {},
   "outputs": [],
   "source": [
    "config = {\n",
    "    **dotenv_values(\"./notebooks/find_run_diff.default.env\"),       # load global default vars\n",
    "    **dotenv_values(os.getenv(\"CONFIG_PATH\")),                      # load specific vars, path of config is stored in ENV variable DEMUX_ILLUM_CONFIG_PATH\n",
    "    **os.environ,                                                   # override loaded values with ENV variables\n",
    "    'PROJECT_PATH': os.getcwd()                                     # set the project path relative to notebook\n",
    "}"
   ]
  },
  {
   "cell_type": "markdown",
   "metadata": {},
   "source": [
    "## Program variables\n",
    "Inputs:\n",
    "- OUTPUT_DIR\n",
    "- SOURCE_DIR\n",
    "- DESTINATION_DIR\n",
    "- SOURCE_REGEX\n",
    "- DESTINATION_REGEX\n",
    "- OUTPUT_FILE_NAME\n",
    "\n",
    "Outputs:\n",
    "- OUTPUT_FILE_PATH"
   ]
  },
  {
   "cell_type": "code",
   "execution_count": 71,
   "metadata": {},
   "outputs": [],
   "source": [
    "#parameters\n",
    "# From config\n",
    "OUTPUT_DIR = config['OUTPUT_DIR']\n",
    "SOURCE_DIR = config['SOURCE_DIR']\n",
    "DESTINATION_DIR = config['DESTINATION_DIR']\n",
    "SOURCE_REGEX = re.compile(config['SOURCE_REGEX'])                       # regex to match source files, also assumes capture groups used to make compare key\n",
    "DESTINATION_REGEX = re.compile(config['DESTINATION_REGEX'])             # regex to match destination files, also assumes capture groups used to make compare key\n",
    "OUTPUT_FILE_NAME = config['OUTPUT_FILE_NAME']\n",
    "\n",
    "# Calculated\n",
    "OUTPUT_FILE_PATH = os.path.join(OUTPUT_DIR, OUTPUT_FILE_NAME)           # path to output file"
   ]
  },
  {
   "cell_type": "markdown",
   "metadata": {},
   "source": [
    "Function `find_runs` is used in `find_runs_in_source_but_not_dest`. As the folders are assumed to have a similar list of runs but are not directly comparable `find_runs` gets a dict of comparable keys and folder paths. `find_runs_in_source_but_not_dest` then preforms set logic to find which runs have not been handled and returns a `.tsv` file containing the results."
   ]
  },
  {
   "cell_type": "code",
   "execution_count": 72,
   "metadata": {},
   "outputs": [],
   "source": [
    "def find_runs(dir, regex):\n",
    "    # make keys from capture groups of regex\n",
    "    runs = {}\n",
    "    for root, dirs, files in os.walk(dir):\n",
    "        for dir in dirs:\n",
    "            if regex.match(dir):\n",
    "                key = \"\"\n",
    "                for group in range(1, regex.match(dir).lastindex + 1):\n",
    "                    key += regex.match(dir).group(group)\n",
    "                runs[key] = os.path.join(root, dir)\n",
    "    return runs\n",
    "\n",
    "def find_runs_in_source_but_not_dest(source_dir, source_regex, destination_dir, destination_regex, output_file):\n",
    "    source_runs = find_runs(SOURCE_DIR, SOURCE_REGEX)\n",
    "    destination_runs = find_runs(DESTINATION_DIR, DESTINATION_REGEX)\n",
    "\n",
    "    target_runs = set(source_runs.keys()) - set(destination_runs.keys())\n",
    "    target_runs = sorted(target_runs)\n",
    "\n",
    "    with open(output_file, 'w') as f:\n",
    "        f.write(f'#paths\\n')\n",
    "        for run in target_runs:\n",
    "            f.write(f\"{source_runs[run]}\\n\")"
   ]
  },
  {
   "cell_type": "markdown",
   "metadata": {},
   "source": [
    "Run the function `find_runs_in_source_but_not_dest` with the paths provided in config. Assumption is an output file is created."
   ]
  },
  {
   "cell_type": "code",
   "execution_count": 73,
   "metadata": {},
   "outputs": [],
   "source": [
    "find_runs_in_source_but_not_dest(SOURCE_DIR, SOURCE_REGEX, DESTINATION_DIR, DESTINATION_REGEX, OUTPUT_FILE_PATH)\n",
    "assert(os.path.exists(OUTPUT_FILE_PATH))"
   ]
  },
  {
   "cell_type": "markdown",
   "metadata": {},
   "source": []
  }
 ],
 "metadata": {
  "kernelspec": {
   "display_name": "Python 3.10.5 (conda)",
   "language": "python",
   "name": "python3"
  },
  "language_info": {
   "codemirror_mode": {
    "name": "ipython",
    "version": 3
   },
   "file_extension": ".py",
   "mimetype": "text/x-python",
   "name": "python",
   "nbconvert_exporter": "python",
   "pygments_lexer": "ipython3",
   "version": "3.10.5"
  },
  "orig_nbformat": 4,
  "vscode": {
   "interpreter": {
    "hash": "141fd6a32b2ee21c74f02f3103fb1f588e33bac4f994c1a8921d4e5cab5071e4"
   }
  }
 },
 "nbformat": 4,
 "nbformat_minor": 2
}
